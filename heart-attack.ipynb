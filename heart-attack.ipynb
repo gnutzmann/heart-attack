{
 "metadata": {
  "language_info": {
   "codemirror_mode": {
    "name": "ipython",
    "version": 3
   },
   "file_extension": ".py",
   "mimetype": "text/x-python",
   "name": "python",
   "nbconvert_exporter": "python",
   "pygments_lexer": "ipython3",
   "version": 3
  },
  "orig_nbformat": 2
 },
 "nbformat": 4,
 "nbformat_minor": 2,
 "cells": [
  {
   "source": [
    "# **Curso de Especialização em Big Data, Data Science e Data Analytics - 2021/1**\n",
    "\n",
    "**Algoritmos e Data Science**\n",
    "\n",
    "Grupo 10:\n",
    "\n",
    "- Diogo Gnutzmann Santos    \n",
    "- Evandro Schubert Faleiro    \n",
    "- Lucas Sagrilo dos Santos    \n",
    "- Luis Dinarte Escobar Resende"
   ],
   "cell_type": "markdown",
   "metadata": {}
  }
 ]
}